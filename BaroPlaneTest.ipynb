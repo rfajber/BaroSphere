{
 "cells": [
  {
   "cell_type": "code",
   "execution_count": 1,
   "metadata": {},
   "outputs": [],
   "source": [
    "import numpy as np\n",
    "import matplotlib.pyplot as plt\n",
    "from BaroPlane import BarotropicPlane\n",
    "\n",
    "B=BarotropicPlane()"
   ]
  },
  {
   "cell_type": "code",
   "execution_count": 2,
   "metadata": {},
   "outputs": [
    {
     "data": {
      "text/plain": [
       "array([-1.25  , -1.1875, -1.125 , -1.0625, -1.    , -0.9375, -0.875 ,\n",
       "       -0.8125, -0.75  , -0.6875, -0.625 , -0.5625, -0.5   , -0.4375,\n",
       "       -0.375 , -0.3125, -0.25  , -0.1875, -0.125 , -0.0625,  0.    ,\n",
       "        0.0625,  0.125 ,  0.1875,  0.25  ,  0.3125,  0.375 ,  0.4375,\n",
       "        0.5   ,  0.5625,  0.625 ,  0.6875,  0.75  ,  0.8125,  0.875 ,\n",
       "        0.9375,  1.    ,  1.0625,  1.125 ,  1.1875,  1.25  ])"
      ]
     },
     "execution_count": 2,
     "metadata": {},
     "output_type": "execute_result"
    }
   ],
   "source": [
    "B.lats1"
   ]
  },
  {
   "cell_type": "code",
   "execution_count": 3,
   "metadata": {},
   "outputs": [
    {
     "name": "stdout",
     "output_type": "stream",
     "text": [
      "960 12 80\n"
     ]
    },
    {
     "name": "stderr",
     "output_type": "stream",
     "text": [
      "/home/rfajber/code/BaroSphere/BaroPlane.py:76: RuntimeWarning: divide by zero encountered in true_divide\n",
      "  psis = vrts/self.indxk2\n",
      "/home/rfajber/code/BaroSphere/BaroPlane.py:76: RuntimeWarning: invalid value encountered in true_divide\n",
      "  psis = vrts/self.indxk2\n"
     ]
    },
    {
     "ename": "NameError",
     "evalue": "name 'tdamp' is not defined",
     "output_type": "error",
     "traceback": [
      "\u001b[0;31m---------------------------------------------------------------------------\u001b[0m",
      "\u001b[0;31mNameError\u001b[0m                                 Traceback (most recent call last)",
      "\u001b[0;32m<ipython-input-3-95a960152d60>\u001b[0m in \u001b[0;36m<module>\u001b[0;34m\u001b[0m\n\u001b[1;32m     30\u001b[0m \u001b[0;34m\u001b[0m\u001b[0m\n\u001b[1;32m     31\u001b[0m     \u001b[0mB\u001b[0m\u001b[0;34m.\u001b[0m\u001b[0mvrtg\u001b[0m \u001b[0;34m=\u001b[0m \u001b[0mB\u001b[0m\u001b[0;34m.\u001b[0m\u001b[0mvrtg\u001b[0m \u001b[0;34m*\u001b[0m \u001b[0mNS\u001b[0m \u001b[0;34m*\u001b[0m \u001b[0mnp\u001b[0m\u001b[0;34m.\u001b[0m\u001b[0mrandom\u001b[0m\u001b[0;34m.\u001b[0m\u001b[0mrandn\u001b[0m\u001b[0;34m(\u001b[0m\u001b[0mB\u001b[0m\u001b[0;34m.\u001b[0m\u001b[0mnlat\u001b[0m\u001b[0;34m,\u001b[0m\u001b[0mB\u001b[0m\u001b[0;34m.\u001b[0m\u001b[0mnlon\u001b[0m\u001b[0;34m)\u001b[0m\u001b[0;34m\u001b[0m\u001b[0;34m\u001b[0m\u001b[0m\n\u001b[0;32m---> 32\u001b[0;31m     \u001b[0mB\u001b[0m\u001b[0;34m.\u001b[0m\u001b[0mvrtg\u001b[0m \u001b[0;34m=\u001b[0m \u001b[0mB\u001b[0m\u001b[0;34m.\u001b[0m\u001b[0mvrtg\u001b[0m \u001b[0;34m*\u001b[0m \u001b[0mtdamp\u001b[0m \u001b[0;34m/\u001b[0m \u001b[0;34m(\u001b[0m\u001b[0mtdamp\u001b[0m \u001b[0;34m+\u001b[0m \u001b[0mB\u001b[0m\u001b[0;34m.\u001b[0m\u001b[0mdt\u001b[0m\u001b[0;34m)\u001b[0m\u001b[0;34m\u001b[0m\u001b[0;34m\u001b[0m\u001b[0m\n\u001b[0m\u001b[1;32m     33\u001b[0m \u001b[0;34m\u001b[0m\u001b[0m\n\u001b[1;32m     34\u001b[0m     \u001b[0;32mif\u001b[0m \u001b[0mi\u001b[0m\u001b[0;34m%\u001b[0m\u001b[0mdN_snap\u001b[0m \u001b[0;34m==\u001b[0m \u001b[0;36m0\u001b[0m\u001b[0;34m:\u001b[0m\u001b[0;34m\u001b[0m\u001b[0;34m\u001b[0m\u001b[0m\n",
      "\u001b[0;31mNameError\u001b[0m: name 'tdamp' is not defined"
     ]
    }
   ],
   "source": [
    "#total number of steps to take\n",
    "Nsteps = int(20*24*3600/B.dt)\n",
    "#how often to take snapshots\n",
    "dN_snap = int(6*3600/B.dt)\n",
    "#total number of snapshots\n",
    "Nsnaps = int(Nsteps/dN_snap)\n",
    "\n",
    "print(Nsteps,dN_snap,Nsnaps)\n",
    "\n",
    "#first time step \n",
    "vrt0 = B.vrtg_unstable_jet(m=3.5,A=2.5e-4)# + 1e-6*np.random.randn(B.nlat,B.nlon)\n",
    "vrt1 = vrt0 + B.dt * B.jac_term(vrt0)\n",
    "\n",
    "#add these into B\n",
    "B.vrtg_m1 = vrt0\n",
    "B.vrtg = vrt0\n",
    "\n",
    "#initialize the snapshots\n",
    "vrt = np.zeros([Nsnaps+1,B.nlat,B.nlon])\n",
    "vrt[0] = vrt0\n",
    "ksnap = 1\n",
    "\n",
    "tdamp = 1/(24*3600*12)\n",
    "NS = 1e-10\n",
    "\n",
    "#main time loop\n",
    "for i in range(1,Nsteps+1):\n",
    "    B.RA_leapfrog()\n",
    "\n",
    "    \n",
    "    B.vrtg = B.vrtg * NS * np.random.randn(B.nlat,B.nlon)\n",
    "    B.vrtg = B.vrtg * tdamp / (tdamp + B.dt)\n",
    "\n",
    "    if i%dN_snap == 0:\n",
    "        print(i,ksnap,np.max(B.vrtg))\n",
    "        vrt[ksnap] = np.copy(B.vrtg)\n",
    "        ksnap += 1"
   ]
  },
  {
   "cell_type": "code",
   "execution_count": null,
   "metadata": {},
   "outputs": [
    {
     "data": {
      "text/plain": [
       "<matplotlib.colorbar.Colorbar at 0x7f7866d6b400>"
      ]
     },
     "execution_count": 13,
     "metadata": {},
     "output_type": "execute_result"
    },
    {
     "data": {
      "image/png": "[encoded data removed]",
      "text/plain": [
       "<Figure size 432x288 with 2 Axes>"
      ]
     },
     "metadata": {
      "needs_background": "light"
     },
     "output_type": "display_data"
    }
   ],
   "source": [
    "plt.pcolor(vrt[25])\n",
    "plt.colorbar()"
   ]
  },
  {
   "cell_type": "code",
   "execution_count": null,
   "metadata": {},
   "outputs": [
    {
     "data": {
      "text/plain": [
       "[<matplotlib.lines.Line2D at 0x7f788c0e4910>,\n",
       " <matplotlib.lines.Line2D at 0x7f788c0e4970>,\n",
       " <matplotlib.lines.Line2D at 0x7f788c0e4af0>,\n",
       " <matplotlib.lines.Line2D at 0x7f788c0e4bb0>,\n",
       " <matplotlib.lines.Line2D at 0x7f788c0e4c70>,\n",
       " <matplotlib.lines.Line2D at 0x7f788c0e4d30>,\n",
       " <matplotlib.lines.Line2D at 0x7f788c0e4df0>,\n",
       " <matplotlib.lines.Line2D at 0x7f788c0e4eb0>,\n",
       " <matplotlib.lines.Line2D at 0x7f788c0e4f70>,\n",
       " <matplotlib.lines.Line2D at 0x7f788c0f0070>,\n",
       " <matplotlib.lines.Line2D at 0x7f788c129910>,\n",
       " <matplotlib.lines.Line2D at 0x7f788c0f0190>,\n",
       " <matplotlib.lines.Line2D at 0x7f788c0f0280>,\n",
       " <matplotlib.lines.Line2D at 0x7f788c0f0340>,\n",
       " <matplotlib.lines.Line2D at 0x7f788c0f0400>,\n",
       " <matplotlib.lines.Line2D at 0x7f788c0f04c0>,\n",
       " <matplotlib.lines.Line2D at 0x7f788c0f0580>,\n",
       " <matplotlib.lines.Line2D at 0x7f788c0f0640>,\n",
       " <matplotlib.lines.Line2D at 0x7f788c0f0700>,\n",
       " <matplotlib.lines.Line2D at 0x7f788c0f07c0>,\n",
       " <matplotlib.lines.Line2D at 0x7f788c0f0880>,\n",
       " <matplotlib.lines.Line2D at 0x7f788c0f0940>,\n",
       " <matplotlib.lines.Line2D at 0x7f788c0f0a00>,\n",
       " <matplotlib.lines.Line2D at 0x7f788c0f0ac0>,\n",
       " <matplotlib.lines.Line2D at 0x7f788c0f0b80>,\n",
       " <matplotlib.lines.Line2D at 0x7f788c0f0c40>,\n",
       " <matplotlib.lines.Line2D at 0x7f788c0f0d00>,\n",
       " <matplotlib.lines.Line2D at 0x7f788c0f0dc0>,\n",
       " <matplotlib.lines.Line2D at 0x7f788c0f0e80>,\n",
       " <matplotlib.lines.Line2D at 0x7f788c0f0f40>,\n",
       " <matplotlib.lines.Line2D at 0x7f788c0f0fa0>,\n",
       " <matplotlib.lines.Line2D at 0x7f788c0f8100>,\n",
       " <matplotlib.lines.Line2D at 0x7f788c0f81c0>,\n",
       " <matplotlib.lines.Line2D at 0x7f788c0f8280>,\n",
       " <matplotlib.lines.Line2D at 0x7f788c0f8340>,\n",
       " <matplotlib.lines.Line2D at 0x7f788c0f8400>,\n",
       " <matplotlib.lines.Line2D at 0x7f788c0f84c0>,\n",
       " <matplotlib.lines.Line2D at 0x7f788c0f8580>,\n",
       " <matplotlib.lines.Line2D at 0x7f788c0f8640>,\n",
       " <matplotlib.lines.Line2D at 0x7f788c0f8700>,\n",
       " <matplotlib.lines.Line2D at 0x7f788c0f87c0>,\n",
       " <matplotlib.lines.Line2D at 0x7f788c0f8880>,\n",
       " <matplotlib.lines.Line2D at 0x7f788c0f8940>,\n",
       " <matplotlib.lines.Line2D at 0x7f788c0f8a00>,\n",
       " <matplotlib.lines.Line2D at 0x7f788c0f8ac0>,\n",
       " <matplotlib.lines.Line2D at 0x7f788c0f8b80>,\n",
       " <matplotlib.lines.Line2D at 0x7f788c0f8c40>,\n",
       " <matplotlib.lines.Line2D at 0x7f788c0f8d00>,\n",
       " <matplotlib.lines.Line2D at 0x7f788c0f8dc0>,\n",
       " <matplotlib.lines.Line2D at 0x7f788c0f8e80>,\n",
       " <matplotlib.lines.Line2D at 0x7f788c0f8f40>,\n",
       " <matplotlib.lines.Line2D at 0x7f788c0f8fa0>,\n",
       " <matplotlib.lines.Line2D at 0x7f788c0fe100>,\n",
       " <matplotlib.lines.Line2D at 0x7f788c0fe1c0>,\n",
       " <matplotlib.lines.Line2D at 0x7f788c0fe280>,\n",
       " <matplotlib.lines.Line2D at 0x7f788c0fe340>,\n",
       " <matplotlib.lines.Line2D at 0x7f788c0fe400>,\n",
       " <matplotlib.lines.Line2D at 0x7f788c0fe4c0>,\n",
       " <matplotlib.lines.Line2D at 0x7f788c0fe580>,\n",
       " <matplotlib.lines.Line2D at 0x7f788c0fe640>,\n",
       " <matplotlib.lines.Line2D at 0x7f788c0fe700>,\n",
       " <matplotlib.lines.Line2D at 0x7f788c0fe7c0>,\n",
       " <matplotlib.lines.Line2D at 0x7f788c0fe880>,\n",
       " <matplotlib.lines.Line2D at 0x7f788c0fe940>,\n",
       " <matplotlib.lines.Line2D at 0x7f788c0fea00>,\n",
       " <matplotlib.lines.Line2D at 0x7f788c0feac0>,\n",
       " <matplotlib.lines.Line2D at 0x7f788c0feb80>,\n",
       " <matplotlib.lines.Line2D at 0x7f788c0fec40>,\n",
       " <matplotlib.lines.Line2D at 0x7f788c0fed00>,\n",
       " <matplotlib.lines.Line2D at 0x7f788c0fedc0>,\n",
       " <matplotlib.lines.Line2D at 0x7f788c0fee80>,\n",
       " <matplotlib.lines.Line2D at 0x7f788c0fef40>,\n",
       " <matplotlib.lines.Line2D at 0x7f788c0fefa0>,\n",
       " <matplotlib.lines.Line2D at 0x7f788c086100>,\n",
       " <matplotlib.lines.Line2D at 0x7f788c0861c0>,\n",
       " <matplotlib.lines.Line2D at 0x7f788c086280>,\n",
       " <matplotlib.lines.Line2D at 0x7f788c086340>,\n",
       " <matplotlib.lines.Line2D at 0x7f788c086400>,\n",
       " <matplotlib.lines.Line2D at 0x7f788c0864c0>,\n",
       " <matplotlib.lines.Line2D at 0x7f788c086580>,\n",
       " <matplotlib.lines.Line2D at 0x7f788c086640>]"
      ]
     },
     "execution_count": 5,
     "metadata": {},
     "output_type": "execute_result"
    },
    {
     "data": {
      "image/png": "[encoded data removed]",
      "text/plain": [
       "<Figure size 432x288 with 1 Axes>"
      ]
     },
     "metadata": {
      "needs_background": "light"
     },
     "output_type": "display_data"
    }
   ],
   "source": [
    "plt.plot(vrt[:,0,:].T)"
   ]
  }
 ],
 "metadata": {
  "kernelspec": {
   "display_name": "p3",
   "language": "python",
   "name": "python3"
  },
  "language_info": {
   "codemirror_mode": {
    "name": "ipython",
    "version": 3
   },
   "file_extension": ".py",
   "mimetype": "text/x-python",
   "name": "python",
   "nbconvert_exporter": "python",
   "pygments_lexer": "ipython3",
   "version": "3.8.2"
  }
 },
 "nbformat": 4,
 "nbformat_minor": 2
}
